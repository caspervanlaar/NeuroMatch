{
 "cells": [
  {
   "cell_type": "code",
   "execution_count": null,
   "metadata": {},
   "outputs": [
    {
     "name": "stdout",
     "output_type": "stream",
     "text": [
      "Starting cleaning and merging process...\n",
      "Loaded 3935 entries from sample submission 'C:\\DS_EEG_DATA_SET\\sampleSubmission.csv'.\n",
      "First 10 sample clip IDs: ['Dog_1_test_segment_0001.mat', 'Dog_1_test_segment_0002.mat', 'Dog_1_test_segment_0003.mat', 'Dog_1_test_segment_0004.mat', 'Dog_1_test_segment_0005.mat', 'Dog_1_test_segment_0006.mat', 'Dog_1_test_segment_0007.mat', 'Dog_1_test_segment_0008.mat', 'Dog_1_test_segment_0009.mat', 'Dog_1_test_segment_0010.mat']\n",
      "Loaded user submission file 'C:\\DS_EEG_DATA_SET\\16072026_lstm64_augprob0.3_ampl0.1\\submission.csv' with 32915 rows.\n",
      "First 10 original user submission clip IDs: ['Patient_5_test_segment_1545.mat_Patient_5_test_segment_1545.mat', 'Patient_5_test_segment_2849.mat_Patient_5_test_segment_2849.mat', 'Dog_3_test_segment_4157.mat_Dog_3_test_segment_4157.mat', 'Patient_2_test_segment_911.mat_Patient_2_test_segment_911.mat', 'Dog_1_test_segment_999.mat_Dog_1_test_segment_999.mat', 'Dog_1_test_segment_2721.mat_Dog_1_test_segment_2721.mat', 'Patient_6_test_segment_115.mat_Patient_6_test_segment_115.mat', 'Patient_7_test_segment_1307.mat_Patient_7_test_segment_1307.mat', 'Patient_3_test_segment_426.mat_Patient_3_test_segment_426.mat', 'Dog_1_test_segment_1010.mat_Dog_1_test_segment_1010.mat']\n",
      "First 10 cleaned user submission clip IDs: ['Patient_5_test_segment_1545.mat', 'Patient_5_test_segment_2849.mat', 'Dog_3_test_segment_4157.mat', 'Patient_2_test_segment_0911.mat', 'Dog_1_test_segment_0999.mat', 'Dog_1_test_segment_2721.mat', 'Patient_6_test_segment_0115.mat', 'Patient_7_test_segment_1307.mat', 'Patient_3_test_segment_0426.mat', 'Dog_1_test_segment_1010.mat']\n",
      "Cleaned clip IDs in user submission (e.g., removed double names and padded zeros).\n",
      "Number of overlapping clip IDs found: 3744\n",
      "User predictions prepared for merge: 32915 unique cleaned clips.\n",
      "First 10 user predictions for merge:\n",
      "                              clip  user_preictal_value\n",
      "0  Patient_5_test_segment_1545.mat             0.067751\n",
      "1  Patient_5_test_segment_2849.mat             0.017047\n",
      "2      Dog_3_test_segment_4157.mat             0.018266\n",
      "3  Patient_2_test_segment_0911.mat             0.036296\n",
      "4      Dog_1_test_segment_0999.mat             0.009536\n",
      "5      Dog_1_test_segment_2721.mat             0.106632\n",
      "6  Patient_6_test_segment_0115.mat             0.016391\n",
      "7  Patient_7_test_segment_1307.mat             0.049034\n",
      "8  Patient_3_test_segment_0426.mat             0.339569\n",
      "9      Dog_1_test_segment_1010.mat             0.017100\n",
      "Merged DataFrame head (showing original preictal and user_preictal_value):\n",
      "                          clip  preictal  user_preictal_value\n",
      "0  Dog_1_test_segment_0001.mat         0             0.009809\n",
      "1  Dog_1_test_segment_0002.mat         0             0.043196\n",
      "2  Dog_1_test_segment_0003.mat         0             0.021710\n",
      "3  Dog_1_test_segment_0004.mat         0             0.154626\n",
      "4  Dog_1_test_segment_0005.mat         0             0.056356\n",
      "5  Dog_1_test_segment_0006.mat         0             0.037063\n",
      "6  Dog_1_test_segment_0007.mat         0             0.148867\n",
      "7  Dog_1_test_segment_0008.mat         0             0.015085\n",
      "8  Dog_1_test_segment_0009.mat         0             0.028314\n",
      "9  Dog_1_test_segment_0010.mat         0             0.016627\n",
      "Converting 'preictal' values to binary (0 or 1) based on 0.5 threshold...\n",
      "Final submission has 3935 rows (should match sample submission row count).\n",
      "First 10 final submission clip IDs and binary preictal values:\n",
      "                          clip  preictal\n",
      "0  Dog_1_test_segment_0001.mat         0\n",
      "1  Dog_1_test_segment_0002.mat         0\n",
      "2  Dog_1_test_segment_0003.mat         0\n",
      "3  Dog_1_test_segment_0004.mat         0\n",
      "4  Dog_1_test_segment_0005.mat         0\n",
      "5  Dog_1_test_segment_0006.mat         0\n",
      "6  Dog_1_test_segment_0007.mat         0\n",
      "7  Dog_1_test_segment_0008.mat         0\n",
      "8  Dog_1_test_segment_0009.mat         0\n",
      "9  Dog_1_test_segment_0010.mat         0\n",
      "Cleaned and merged submission saved to 'C:\\DS_EEG_DATA_SET\\16072026_lstm64_augprob0.3_ampl0.1\\cleaned_submission.csv'.\n"
     ]
    }
   ],
   "source": [
    "import numpy as np\n",
    "import matplotlib.pyplot as plt"
   ]
  },
  {
   "cell_type": "code",
   "execution_count": null,
   "metadata": {},
   "outputs": [],
   "source": []
  }
 ],
 "metadata": {
  "kernelspec": {
   "display_name": "SPIKEDETEC",
   "language": "python",
   "name": "python3"
  },
  "language_info": {
   "codemirror_mode": {
    "name": "ipython",
    "version": 3
   },
   "file_extension": ".py",
   "mimetype": "text/x-python",
   "name": "python",
   "nbconvert_exporter": "python",
   "pygments_lexer": "ipython3",
   "version": "3.7.16"
  }
 },
 "nbformat": 4,
 "nbformat_minor": 2
}
