{
 "cells": [
  {
   "cell_type": "markdown",
   "metadata": {},
   "source": [
    "Think! 1: Asking a question¶\n",
    "\n",
    "The train illusion occurs when sitting on a train and viewing another train outside the window. Suddenly, the other train seems to move, i.e. you experience visual motion of the other train relative to your train. But which train is actually moving?\n",
    "\n",
    "Often people mix this up. In particular, they think their own train might be moving when it's the other train that moves; or vice versa. The illusion is usually resolved once you gain vision of the surroundings that lets you disambiguate the relative motion; or if you experience strong vibrations indicating that it is indeed your own train that is in motion.\n",
    "\n",
    "We assume that we have built the train illusion model (see the other example project colab). That model predicts that accumulated sensory evidence from vestibular signals determines the decision of whether self-motion is experienced or not. We now have vestibular neuron data (simulated in our case, but let's pretend) and would like to see if that prediction holds true.\n",
    "\n",
    "The data contains N neurons and M trials for each of 3 motion conditions: no self-motion, slowly accelerating self-motion and faster accelerating self-motion. In our data, N = 40 and M = 400.\n",
    "\n",
    "Discuss between yourselves and come up with a question for this data analysis project.\n",
    "\n",
    "Question: How do we model the neurons and their activity to the three motion conditions and their subsequent self reported experience?\n",
    "\n"
   ]
  },
  {
   "cell_type": "markdown",
   "metadata": {},
   "source": [
    "As a reminder, here is what you should discuss and write down:\n",
    "\n",
    "    What exact aspect of this neural with N neurons and M trials data needs modeling?\n",
    "\n",
    "    Define an evaluation method!\n",
    "\n",
    "        How will you know your modeling is good?\n",
    "\n",
    "        E.g., comparison to specific data (quantitative method of comparison?)\n",
    "\n",
    "    Think of an experiment that could test your model.\n",
    "\n",
    "Make sure to avoid the pitfalls!\n",
    "Click here for a recap on pitfalls\n",
    "\n",
    "Question is too general\n",
    "\n",
    "    Remember: science advances one small step at the time. Get the small step right…\n",
    "\n",
    "Precise aspect of phenomenon you want to model is unclear\n",
    "\n",
    "    You will fail to ask a meaningful question\n",
    "\n",
    "You have already chosen a toolkit\n",
    "\n",
    "    This will prevent you from thinking deeply about the best way to answer your scientific question\n",
    "\n",
    "You don’t have a clear goal\n",
    "\n",
    "    What do you want to get out of modeling?\n",
    "\n",
    "You don’t have a potential experiment in mind\n",
    "\n",
    "    This will help concretize your objectives and think through the logic behind your goal\n",
    "\n",
    "Note\n",
    "\n",
    "The hardest part is Step 1. Once that is properly set up, all the others should be easier. BUT: often you think that Step 1 is done only to figure out in later steps (anywhere really) that you were not as clear on your question and goal than you thought. Revisiting Step 1 is a frequent necessity. Don’t feel bad about it. You can revisit Step 1 later; for now, let’s move onto the next step."
   ]
  },
  {
   "cell_type": "markdown",
   "metadata": {},
   "source": [
    "Think! 3: Determine your basic ingredients¶\n",
    "\n",
    "The idea of our project is that the vestibular signals are noisy so that they might be mis-interpreted by the brain. We did some brainstorming and think that we need to somehow extract the self-motion judgements from the spike counts of our neurons. Based on that, our algorithm needs to make a decision: was there self motion or not? This is a classical 2-choice classification problem. We will have to transform the raw spike data into the right input for the algorithm (spike pre-processing).\n",
    "\n",
    "In order to address our question we need to design an appropriate computational data analysis pipeline.\n",
    "\n",
    "What ingredients do we need? What variables from the data should we extract, and what methods should we apply to them?\n",
    "\n",
    "- Vestibular neuronal activity\n",
    "- Self reported experience\n",
    "- Pre process algo => denoising\n",
    "- Actual motion\n",
    "\n",
    "Depending on what kinda model you want to make the process of modeling would differ. I would try to do some sort of binary grouping. Idk maybe pca. Just to identify the neuronal activity and see if there is a clear grouping difference. Then you can model that behaviour. However, i think this problem can be easily solved with polynomial regression... 2 predicting inputs 1 predicting output. \n"
   ]
  },
  {
   "cell_type": "markdown",
   "metadata": {},
   "source": [
    "We think that noise in the signal drives whether or not people perceive self motion. Maybe the brain uses the strongest signal at peak acceleration to decide on self motion, but we actually think it is better to accumulate evidence over some period of time. We want to test this. The noise idea also means that when the signal-to-noise ratio is higher, the brain does better, and this would be in the faster acceleration condition. We want to test this too.\n",
    "\n",
    "Come up with hypotheses focussing on specific details of our overall research question.\n",
    "Higher input from the vestibular system drives the optical illusion.\n",
    "\n",
    "\n",
    "Can you write down your hypotheses mathematically, using for example the ingredients and variables from the previous step?\n",
    "In, Input vestibular system\n",
    "Ac, Actual accerlation\n",
    "Ip = Illusion Perception\n",
    "t = time\n",
    "In(t) = Ac*t\n",
    "\n",
    "Ip(In) = (1+sgn(In))/2\n",
    "\n",
    "Where Ip = 0, means no illusion\n",
    "Where Ip = 1, means illusion\n",
    "\n"
   ]
  },
  {
   "cell_type": "markdown",
   "metadata": {},
   "source": []
  }
 ],
 "metadata": {
  "kernelspec": {
   "display_name": "SPIKEDETEC",
   "language": "python",
   "name": "python3"
  },
  "language_info": {
   "codemirror_mode": {
    "name": "ipython",
    "version": 3
   },
   "file_extension": ".py",
   "mimetype": "text/x-python",
   "name": "python",
   "nbconvert_exporter": "python",
   "pygments_lexer": "ipython3",
   "version": "3.7.16"
  }
 },
 "nbformat": 4,
 "nbformat_minor": 2
}
